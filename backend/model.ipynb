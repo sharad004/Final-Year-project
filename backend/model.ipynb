{
 "cells": [
  {
   "cell_type": "code",
   "execution_count": 1,
   "id": "9d351b05",
   "metadata": {},
   "outputs": [],
   "source": [
    "import numpy as np\n",
    "import pandas as pd\n",
    "import re\n",
    "import nltk\n",
    "from nltk.corpus import stopwords\n",
    "from nltk.stem.porter import PorterStemmer\n",
    "from sklearn.feature_extraction.text import TfidfVectorizer\n",
    "from sklearn.model_selection import train_test_split\n",
    "from sklearn.metrics import accuracy_score"
   ]
  },
  {
   "cell_type": "code",
   "execution_count": 2,
   "id": "fcefcbb5",
   "metadata": {},
   "outputs": [
    {
     "name": "stderr",
     "output_type": "stream",
     "text": [
      "[nltk_data] Downloading package stopwords to C:\\Users\\Acer\n",
      "[nltk_data]     Pc\\AppData\\Roaming\\nltk_data...\n",
      "[nltk_data]   Package stopwords is already up-to-date!\n"
     ]
    },
    {
     "data": {
      "text/plain": [
       "True"
      ]
     },
     "execution_count": 2,
     "metadata": {},
     "output_type": "execute_result"
    }
   ],
   "source": [
    "nltk.download('stopwords')"
   ]
  },
  {
   "cell_type": "code",
   "execution_count": 3,
   "id": "823ff38c",
   "metadata": {},
   "outputs": [
    {
     "name": "stdout",
     "output_type": "stream",
     "text": [
      "['a', 'about', 'above', 'after', 'again', 'against', 'ain', 'all', 'am', 'an', 'and', 'any', 'are', 'aren', \"aren't\", 'as', 'at', 'be', 'because', 'been', 'before', 'being', 'below', 'between', 'both', 'but', 'by', 'can', 'couldn', \"couldn't\", 'd', 'did', 'didn', \"didn't\", 'do', 'does', 'doesn', \"doesn't\", 'doing', 'don', \"don't\", 'down', 'during', 'each', 'few', 'for', 'from', 'further', 'had', 'hadn', \"hadn't\", 'has', 'hasn', \"hasn't\", 'have', 'haven', \"haven't\", 'having', 'he', \"he'd\", \"he'll\", 'her', 'here', 'hers', 'herself', \"he's\", 'him', 'himself', 'his', 'how', 'i', \"i'd\", 'if', \"i'll\", \"i'm\", 'in', 'into', 'is', 'isn', \"isn't\", 'it', \"it'd\", \"it'll\", \"it's\", 'its', 'itself', \"i've\", 'just', 'll', 'm', 'ma', 'me', 'mightn', \"mightn't\", 'more', 'most', 'mustn', \"mustn't\", 'my', 'myself', 'needn', \"needn't\", 'no', 'nor', 'not', 'now', 'o', 'of', 'off', 'on', 'once', 'only', 'or', 'other', 'our', 'ours', 'ourselves', 'out', 'over', 'own', 're', 's', 'same', 'shan', \"shan't\", 'she', \"she'd\", \"she'll\", \"she's\", 'should', 'shouldn', \"shouldn't\", \"should've\", 'so', 'some', 'such', 't', 'than', 'that', \"that'll\", 'the', 'their', 'theirs', 'them', 'themselves', 'then', 'there', 'these', 'they', \"they'd\", \"they'll\", \"they're\", \"they've\", 'this', 'those', 'through', 'to', 'too', 'under', 'until', 'up', 've', 'very', 'was', 'wasn', \"wasn't\", 'we', \"we'd\", \"we'll\", \"we're\", 'were', 'weren', \"weren't\", \"we've\", 'what', 'when', 'where', 'which', 'while', 'who', 'whom', 'why', 'will', 'with', 'won', \"won't\", 'wouldn', \"wouldn't\", 'y', 'you', \"you'd\", \"you'll\", 'your', \"you're\", 'yours', 'yourself', 'yourselves', \"you've\"]\n"
     ]
    }
   ],
   "source": [
    "print(stopwords.words('english'))\n",
    "#english ko stopwords print garna lai"
   ]
  },
  {
   "cell_type": "code",
   "execution_count": 4,
   "id": "4c9fe158",
   "metadata": {},
   "outputs": [],
   "source": [
    "stop_words=set(stopwords.words('english'))"
   ]
  },
  {
   "cell_type": "markdown",
   "id": "40bffc5c",
   "metadata": {},
   "source": [
    "Data preprocess garne"
   ]
  },
  {
   "cell_type": "code",
   "execution_count": 5,
   "id": "599196f1",
   "metadata": {},
   "outputs": [],
   "source": [
    "#load\n",
    "\n",
    "true_df = pd.read_csv('data/True.csv')\n",
    "fake_df = pd.read_csv('data/Fake.csv')\n"
   ]
  },
  {
   "cell_type": "code",
   "execution_count": 6,
   "id": "b6e08537",
   "metadata": {},
   "outputs": [],
   "source": [
    "#add labels \n",
    "true_df['label'] = 1   # Real news\n",
    "fake_df['label'] = 0   # Fake news\n"
   ]
  },
  {
   "cell_type": "code",
   "execution_count": 7,
   "id": "27902992",
   "metadata": {},
   "outputs": [],
   "source": [
    "#merge\n",
    "data = pd.concat([true_df, fake_df], ignore_index=True)"
   ]
  },
  {
   "cell_type": "code",
   "execution_count": 8,
   "id": "de063b0f",
   "metadata": {},
   "outputs": [],
   "source": [
    "#shuffling\n",
    "data = data.sample(frac=1, random_state=42).reset_index(drop=True)\n"
   ]
  },
  {
   "cell_type": "code",
   "execution_count": 9,
   "id": "4d539648",
   "metadata": {},
   "outputs": [
    {
     "data": {
      "text/plain": [
       "(44898, 5)"
      ]
     },
     "execution_count": 9,
     "metadata": {},
     "output_type": "execute_result"
    }
   ],
   "source": [
    "data.shape"
   ]
  },
  {
   "cell_type": "code",
   "execution_count": 10,
   "id": "3ebf7695",
   "metadata": {},
   "outputs": [
    {
     "data": {
      "text/html": [
       "<div>\n",
       "<style scoped>\n",
       "    .dataframe tbody tr th:only-of-type {\n",
       "        vertical-align: middle;\n",
       "    }\n",
       "\n",
       "    .dataframe tbody tr th {\n",
       "        vertical-align: top;\n",
       "    }\n",
       "\n",
       "    .dataframe thead th {\n",
       "        text-align: right;\n",
       "    }\n",
       "</style>\n",
       "<table border=\"1\" class=\"dataframe\">\n",
       "  <thead>\n",
       "    <tr style=\"text-align: right;\">\n",
       "      <th></th>\n",
       "      <th>title</th>\n",
       "      <th>text</th>\n",
       "      <th>subject</th>\n",
       "      <th>date</th>\n",
       "      <th>label</th>\n",
       "    </tr>\n",
       "  </thead>\n",
       "  <tbody>\n",
       "    <tr>\n",
       "      <th>0</th>\n",
       "      <td>BREAKING: GOP Chairman Grassley Has Had Enoug...</td>\n",
       "      <td>Donald Trump s White House is in chaos, and th...</td>\n",
       "      <td>News</td>\n",
       "      <td>July 21, 2017</td>\n",
       "      <td>0</td>\n",
       "    </tr>\n",
       "    <tr>\n",
       "      <th>1</th>\n",
       "      <td>Failed GOP Candidates Remembered In Hilarious...</td>\n",
       "      <td>Now that Donald Trump is the presumptive GOP n...</td>\n",
       "      <td>News</td>\n",
       "      <td>May 7, 2016</td>\n",
       "      <td>0</td>\n",
       "    </tr>\n",
       "    <tr>\n",
       "      <th>2</th>\n",
       "      <td>Mike Pence’s New DC Neighbors Are HILARIOUSLY...</td>\n",
       "      <td>Mike Pence is a huge homophobe. He supports ex...</td>\n",
       "      <td>News</td>\n",
       "      <td>December 3, 2016</td>\n",
       "      <td>0</td>\n",
       "    </tr>\n",
       "    <tr>\n",
       "      <th>3</th>\n",
       "      <td>California AG pledges to defend birth control ...</td>\n",
       "      <td>SAN FRANCISCO (Reuters) - California Attorney ...</td>\n",
       "      <td>politicsNews</td>\n",
       "      <td>October 6, 2017</td>\n",
       "      <td>1</td>\n",
       "    </tr>\n",
       "    <tr>\n",
       "      <th>4</th>\n",
       "      <td>AZ RANCHERS Living On US-Mexico Border Destroy...</td>\n",
       "      <td>Twisted reasoning is all that comes from Pelos...</td>\n",
       "      <td>politics</td>\n",
       "      <td>Apr 25, 2017</td>\n",
       "      <td>0</td>\n",
       "    </tr>\n",
       "  </tbody>\n",
       "</table>\n",
       "</div>"
      ],
      "text/plain": [
       "                                               title  \\\n",
       "0   BREAKING: GOP Chairman Grassley Has Had Enoug...   \n",
       "1   Failed GOP Candidates Remembered In Hilarious...   \n",
       "2   Mike Pence’s New DC Neighbors Are HILARIOUSLY...   \n",
       "3  California AG pledges to defend birth control ...   \n",
       "4  AZ RANCHERS Living On US-Mexico Border Destroy...   \n",
       "\n",
       "                                                text       subject  \\\n",
       "0  Donald Trump s White House is in chaos, and th...          News   \n",
       "1  Now that Donald Trump is the presumptive GOP n...          News   \n",
       "2  Mike Pence is a huge homophobe. He supports ex...          News   \n",
       "3  SAN FRANCISCO (Reuters) - California Attorney ...  politicsNews   \n",
       "4  Twisted reasoning is all that comes from Pelos...      politics   \n",
       "\n",
       "               date  label  \n",
       "0     July 21, 2017      0  \n",
       "1       May 7, 2016      0  \n",
       "2  December 3, 2016      0  \n",
       "3  October 6, 2017       1  \n",
       "4      Apr 25, 2017      0  "
      ]
     },
     "execution_count": 10,
     "metadata": {},
     "output_type": "execute_result"
    }
   ],
   "source": [
    "data.head()"
   ]
  },
  {
   "cell_type": "code",
   "execution_count": 11,
   "id": "b0938da9",
   "metadata": {},
   "outputs": [
    {
     "data": {
      "text/plain": [
       "title      0\n",
       "text       0\n",
       "subject    0\n",
       "date       0\n",
       "label      0\n",
       "dtype: int64"
      ]
     },
     "execution_count": 11,
     "metadata": {},
     "output_type": "execute_result"
    }
   ],
   "source": [
    "#null xa ki nai check\n",
    "data.isnull().sum()"
   ]
  },
  {
   "cell_type": "code",
   "execution_count": 12,
   "id": "5c0be8b9",
   "metadata": {},
   "outputs": [
    {
     "name": "stdout",
     "output_type": "stream",
     "text": [
      "0         BREAKING: GOP Chairman Grassley Has Had Enoug...\n",
      "1         Failed GOP Candidates Remembered In Hilarious...\n",
      "2         Mike Pence’s New DC Neighbors Are HILARIOUSLY...\n",
      "3        California AG pledges to defend birth control ...\n",
      "4        AZ RANCHERS Living On US-Mexico Border Destroy...\n",
      "                               ...                        \n",
      "44893    Nigeria says U.S. agrees delayed $593 million ...\n",
      "44894    Boiler Room #62 – Fatal Illusions Tune in to t...\n",
      "44895    ATHEISTS SUE GOVERNOR OF TEXAS Over Display on...\n",
      "44896    Republican tax plan would deal financial hit t...\n",
      "44897    U.N. refugee commissioner says Australia must ...\n",
      "Name: content, Length: 44898, dtype: object\n"
     ]
    }
   ],
   "source": [
    "#merging title and text\n",
    "data['content']=data['title']+' '+data['text']\n",
    "print(data['content'])"
   ]
  },
  {
   "cell_type": "code",
   "execution_count": 13,
   "id": "1b1ef074",
   "metadata": {},
   "outputs": [],
   "source": [
    "#data ra label seperate\n",
    "X=data.drop(columns='label', axis=1)\n",
    "Y=data['label']\n"
   ]
  },
  {
   "cell_type": "code",
   "execution_count": 14,
   "id": "544ac835",
   "metadata": {},
   "outputs": [
    {
     "name": "stdout",
     "output_type": "stream",
     "text": [
      "                                                   title  \\\n",
      "0       BREAKING: GOP Chairman Grassley Has Had Enoug...   \n",
      "1       Failed GOP Candidates Remembered In Hilarious...   \n",
      "2       Mike Pence’s New DC Neighbors Are HILARIOUSLY...   \n",
      "3      California AG pledges to defend birth control ...   \n",
      "4      AZ RANCHERS Living On US-Mexico Border Destroy...   \n",
      "...                                                  ...   \n",
      "44893  Nigeria says U.S. agrees delayed $593 million ...   \n",
      "44894                  Boiler Room #62 – Fatal Illusions   \n",
      "44895  ATHEISTS SUE GOVERNOR OF TEXAS Over Display on...   \n",
      "44896  Republican tax plan would deal financial hit t...   \n",
      "44897  U.N. refugee commissioner says Australia must ...   \n",
      "\n",
      "                                                    text          subject  \\\n",
      "0      Donald Trump s White House is in chaos, and th...             News   \n",
      "1      Now that Donald Trump is the presumptive GOP n...             News   \n",
      "2      Mike Pence is a huge homophobe. He supports ex...             News   \n",
      "3      SAN FRANCISCO (Reuters) - California Attorney ...     politicsNews   \n",
      "4      Twisted reasoning is all that comes from Pelos...         politics   \n",
      "...                                                  ...              ...   \n",
      "44893  ABUJA (Reuters) - The United States has formal...        worldnews   \n",
      "44894  Tune in to the Alternate Current Radio Network...      Middle-east   \n",
      "44895   I m convinced the Freedom From Religion group...  Government News   \n",
      "44896  WASHINGTON (Reuters) - The Republican tax plan...     politicsNews   \n",
      "44897  SYDNEY (Reuters) - The U.N. High Commissioner ...        worldnews   \n",
      "\n",
      "                     date                                            content  \n",
      "0           July 21, 2017   BREAKING: GOP Chairman Grassley Has Had Enoug...  \n",
      "1             May 7, 2016   Failed GOP Candidates Remembered In Hilarious...  \n",
      "2        December 3, 2016   Mike Pence’s New DC Neighbors Are HILARIOUSLY...  \n",
      "3        October 6, 2017   California AG pledges to defend birth control ...  \n",
      "4            Apr 25, 2017  AZ RANCHERS Living On US-Mexico Border Destroy...  \n",
      "...                   ...                                                ...  \n",
      "44893  December 27, 2017   Nigeria says U.S. agrees delayed $593 million ...  \n",
      "44894       June 29, 2016  Boiler Room #62 – Fatal Illusions Tune in to t...  \n",
      "44895        Feb 27, 2016  ATHEISTS SUE GOVERNOR OF TEXAS Over Display on...  \n",
      "44896   November 2, 2017   Republican tax plan would deal financial hit t...  \n",
      "44897   November 1, 2017   U.N. refugee commissioner says Australia must ...  \n",
      "\n",
      "[44898 rows x 5 columns]\n",
      "0        0\n",
      "1        0\n",
      "2        0\n",
      "3        1\n",
      "4        0\n",
      "        ..\n",
      "44893    1\n",
      "44894    0\n",
      "44895    0\n",
      "44896    1\n",
      "44897    1\n",
      "Name: label, Length: 44898, dtype: int64\n"
     ]
    }
   ],
   "source": [
    "print(X)\n",
    "print(Y)"
   ]
  },
  {
   "cell_type": "markdown",
   "id": "17e59135",
   "metadata": {},
   "source": [
    "Stemming(reduce word into root word)"
   ]
  },
  {
   "cell_type": "code",
   "execution_count": 15,
   "id": "b8950f55",
   "metadata": {},
   "outputs": [],
   "source": [
    "#!pip install swifter\n",
    "#import swifter\n",
    "#data['content'] = data['content'].swifter.apply(stemming)\n",
    "#(if it takes too long to stem, use swifter for parallel processing )"
   ]
  },
  {
   "cell_type": "code",
   "execution_count": 16,
   "id": "3b421852",
   "metadata": {},
   "outputs": [],
   "source": [
    "port_stem=PorterStemmer()"
   ]
  },
  {
   "cell_type": "code",
   "execution_count": 17,
   "id": "44413c0c",
   "metadata": {},
   "outputs": [],
   "source": [
    "def stemming(content):\n",
    "    content = re.sub('[^a-zA-Z ]', '', content)  \n",
    "    content = content.lower()\n",
    "    words = content.split()\n",
    "    stemmed_words = [port_stem.stem(word) for word in words if word not in stop_words]\n",
    "    return ' '.join(stemmed_words)\n",
    "    "
   ]
  },
  {
   "cell_type": "code",
   "execution_count": 18,
   "id": "8788910a",
   "metadata": {},
   "outputs": [],
   "source": [
    "data['content']=data['content'].apply(stemming)"
   ]
  },
  {
   "cell_type": "code",
   "execution_count": 19,
   "id": "8332e254",
   "metadata": {},
   "outputs": [
    {
     "name": "stdout",
     "output_type": "stream",
     "text": [
      "0        break gop chairman grassley enough demand trum...\n",
      "1        fail gop candid rememb hilari mock eulog video...\n",
      "2        mike penc new dc neighbor hilari troll homopho...\n",
      "3        california ag pledg defend birth control insur...\n",
      "4        az rancher live usmexico border destroy nanci ...\n",
      "                               ...                        \n",
      "44893    nigeria say us agre delay million fighter plan...\n",
      "44894    boiler room fatal illus tune altern current ra...\n",
      "44895    atheist sue governor texa display capitol grou...\n",
      "44896    republican tax plan would deal financi hit us ...\n",
      "44897    un refuge commission say australia must stop u...\n",
      "Name: content, Length: 44898, dtype: object\n"
     ]
    }
   ],
   "source": [
    "print(data['content'])"
   ]
  },
  {
   "cell_type": "code",
   "execution_count": 20,
   "id": "1eac979c",
   "metadata": {},
   "outputs": [],
   "source": [
    "#data ra label separate\n",
    "X=data['content'].values\n",
    "Y=data['label'].values"
   ]
  },
  {
   "cell_type": "code",
   "execution_count": 21,
   "id": "ac53ecaa",
   "metadata": {},
   "outputs": [
    {
     "name": "stdout",
     "output_type": "stream",
     "text": [
      "['break gop chairman grassley enough demand trump jr testimoni donald trump white hous chao tri cover russia problem mount hour refus acknowledg problem surround fake news hoax howev fact bear thing differ seem crack congression public leadershipchuck grassley riowa head senat judiciari committe fed demand donald trump jr former trump campaign manag paul manafort testifi committe regard infam shadi meet donald trump shadi russian lawyer promis dirt democrat presidenti nomine hillari clinton fact inform due well demand send signal team trump notabl fire special counsel robert mueller circumst despit fact seem seem trump white hous lay groundwork speak speakher tweet regard grassley warningalso anyon think senat grassley rest senat seriou need look warn alreadi given trump jr manafort either follow order serv subpoena forc compli refus held contempt congress carri seriou jail timeeven cruel craven creatur within gop sick donald trump corrupt scandalridden white hous angri stage hostil takeov parti first birther give perman racist label decim effort made pretend republican parti hotb racism turn world upsid nation seem oldtim like grassley clearli sick trump bullshit might one could save republ need bit couragefeatur imag via win mcnameegetti imag'\n",
      " 'fail gop candid rememb hilari mock eulog video donald trump presumpt gop nomine time rememb candid tri hard beat race white hous forget misstep gaff weird sheer idioci candid jeb bush marco rubio john kasich ted cruz ben carson carli fiorinather video make round twitter eulog three fail candid though dead gop might well dead point anyway appropri titl eulog gop peopl make short speech candidatesonc past man actual say jeb bush qualifi presid fake tear journalist comedienn francesca fiorentini say dearli belov gather today commemor candid longer us one man speak amus circusi rendit chopin funer march rememb jeb way jeb hardli knew ye bad polici find way republican morass inde like jeb polici invis sometim although mani felt would win nomin earli best perform often came debat get outandout fight donald trump virtual everyth sun also bad habit defend brother action iraq memor say relat brother one thing know sure kept us safe move marco rubio fiorentini say call mani thing young charm lil marco last nicknam cours refer trump penchant namecal man speak spanish rememb rubio way marco normal boy anoth said involv gang eight immigr bill kill candid fiorentini repli peopl die gang violenc die gang eight violenc maker video save absolut best last cours ben carson dear dr carson one speaker say would gentli rock sleep monoton voic carson especi well known seemingli asleep half time saw eye open wide surpris like surpris voic soft speech slow realli hard stay awak talk imagin give state union addressto see whole video especi spectacular end carson eulog watch belowtak moment say g bye gop candid httpstcooblzv aj ajplu may featur imag via screen captur embed video'\n",
      " 'mike penc new dc neighbor hilari troll homophob bigot mike penc huge homophob support exgay convers therapi oppos hate crime protect lgbtq peopl staunchli marriag equal said believ samesex coupl lead societ collaps end folk forc live near vice presidentelect near newli rent hous washington dc none happi new neighbor howev instead protest ralli street decid troll insteadth resid chevi chase neighborhood hang larg rainbow flag home send signal mike penc homophobia welcom neck wood accord local station wjla respect messag show case disagr think said ils heintzenth heintzen refer vicepresid elect mike penc penc move hous heintzen block stay onandoff move vicepresid mansion ground naval observatori next yearneighbor start hang pride flag vpelect move lgbtq commun critic penc polici regard lgbtq rightsher coupl imag collect rainbow fyou penc via twitterprid flag send messag mikep outsid temporari dc home neighbor say come newschannel abcnew lgbtq lgbt pictwittercomabfkfjyl tim barber abctimbarb decemb resid nw washington street vp elect penc rent hous send symbol messag resid may hang flag pictwittercomfldysmopi suzann kennedi abcsuzann novemb flag come accord local peopl great thing let penc know bigotri welcom best attempt display presenc hand like caus anoth meltdown trump undoubtedli accus peopl harass penc bigot view happen hamilton staffeith way signal absolut toler bigotri matter hard push hope head explod one even take officefeatur imag via chip somodevillagetti imag'\n",
      " ...\n",
      " 'atheist sue governor texa display capitol ground convinc freedom religion group atheist get enough attent kid perpetu offend everyth yet anoth case mock nativ scene childish display su texa governor took downtexa gov greg abbott su atheist group decis remov nativityscen parodi state capitol decemberth freedom religion foundat announc feder lawsuit abbott western district texa austin divis thursday organ alleg governor violat free speech equal protect due process right order remov exhibit commemor birth bill rightsth imag question approv texa state preserv board includ statu liberti found father bill right manger place state capitol dec remain three day abbott act mock capitol nativ scene offens demand remov satir nativ scene capitol abbott tweet dec governor also pen letter state preserv board juvenil parodi violat preserv board regul remov immedi biblic scene newli born jesu christ lie manger bethlehem lie heart christian faith subject imag held sacr million texan foundat tasteless sarcasm noth promot moral gener welfar abbott said contrari foundat spite messag intent design belittl offend undermin rather promot public purpos display promot bill right might otherwis read wnd'\n",
      " 'republican tax plan would deal financi hit us univers washington reuter republican tax plan unveil thursday stir anger us univers said propos tax endow privat institut repeal deduct studentloan interest payment would hurt institut student bill republicanl hous repres would increas student cost attend colleg billion accord analysi american council educ ace lead lobbi group higher educ plan would discourag particip postsecondari educ make colleg expens enrol undermin financi stabil public privat twoyear fouryear colleg univers ace presid ted mitchel said hous speaker paul ryan power republican congress told news confer tax plan would allow typic famili four save around year could go toward colleg save plan would establish percent tax earn larg privateschool endow would also scrap deduct interest paid student loan congression analyst said would increas feder revenu billion year smaller tuitionrel tax break also end presid donald trump fellow republican lock horn colleg univers say forc liber valu student privat colleg endow total billion accord nation associ colleg univers busi offic nacubo tax would appli endow least asset student enrol sinc univers must balanc budget may rais tuition cut program financi aid order cover new tax said nacubo feder affair director liz clark princeton univers use earn billion endow provid aid percent student pay academ program facil research said bob durke vice presid secretari new jersey school famili incom pay tuition said incom less also forgo pay room board end interest deduct would hurt peopl abil afford educ said justin draeger presid nation associ student financi aid administr us one thing talk whether fund effect use govern money help peopl afford colleg said anoth use offset unclear tax overhaul'\n",
      " 'un refuge commission say australia must stop unfold humanitarian crisi png sydney reuter un high commission refuge said australia must take immedi action stop unfold humanitarian emerg see asylum seeker barricad insid abandon detent center papua new guinea without food run water detaine manu island centr two day defi attempt australia papua new guinea close camp say fear violent repris local commun move transit center food exhaust mani men begin show illeffect twoday without adequ nourish environ un refuge commission said australia must urgent resolv papua new guinea australia remain respons wellb move papua new guinea adequ longterm solut outsid countri found un bodi said statement thursday manu center key part australia controversi sovereign border immigr polici refus allow asylum seeker arriv boat reach shore detain camp papua new guinea nauru south pacif unit nation right group year cite human right abus among detaine center papua new guinea high court rule last year manu center first open illeg camp schedul close oct secur staff withdrew men camp water power util camp cut wednesday desper sourc altern suppli dozen men work night use wooden pole dig deep hole find water use torch light task photo suppli reuter show without run water advoc fear rapid declin sanitari condit camp behrouz boochani kurdish journalist iran said men hunger strike call red cross medicin san frontier msf provid help msf said statement reuter deepli concern sadden australia papua new guinea respons care detaine australia said men move new transit center pledg million million worth food secur next month un refuge commission said one new facil still makeshift camp compos ship contain contain surround mud electr water connect yet said reloc men design temporari measur allow unit state time complet vet refuge part refuge swap deal accept unit state option resettl papua new guinea none wish stay anoth develop countri lawyer detaine file suit papua new guinea suprem court prevent manu camp closur servic return rule expect later thursday although delay two day alreadi detaine come wartorn countri afghanistan iran myanmar pakistan sri lanka syria']\n"
     ]
    }
   ],
   "source": [
    "print(X)"
   ]
  },
  {
   "cell_type": "code",
   "execution_count": 22,
   "id": "7c817814",
   "metadata": {},
   "outputs": [
    {
     "name": "stdout",
     "output_type": "stream",
     "text": [
      "[0 0 0 ... 0 1 1]\n"
     ]
    }
   ],
   "source": [
    "print(Y)"
   ]
  },
  {
   "cell_type": "code",
   "execution_count": 23,
   "id": "a577d0db",
   "metadata": {},
   "outputs": [
    {
     "data": {
      "text/plain": [
       "(44898,)"
      ]
     },
     "execution_count": 23,
     "metadata": {},
     "output_type": "execute_result"
    }
   ],
   "source": [
    "Y.shape"
   ]
  },
  {
   "cell_type": "code",
   "execution_count": 24,
   "id": "a306b533",
   "metadata": {},
   "outputs": [],
   "source": [
    "#converting textual data into numerical data\n",
    "# from tfidf_from_scratch import TFIDFVectorizerFromScratch \n",
    "#documents=X.tolist()\n",
    "#documents_subset = documents[:500]  # first 500 rows\n",
    "# vectorizer = TFIDFVectorizerFromScratch()\n",
    "# X_tfidf_subset = vectorizer.fit_transform(documents_subset)"
   ]
  },
  {
   "cell_type": "code",
   "execution_count": 25,
   "id": "8c21e4c7",
   "metadata": {},
   "outputs": [],
   "source": [
    "# vectorizer=TfidfVectorizer(max_features=20000, ngram_range=(1,2))\n",
    "# vectorizer.fit(X)\n",
    "# X=vectorizer.transform(X)\n",
    "\n",
    "# vectorizer = TfidfVectorizer(max_features=10000, ngram_range=(1,3))\n",
    "# X_tfidf = vectorizer.fit_transform(X)\n",
    "\n",
    "vectorizer = TfidfVectorizer(max_features=20000, ngram_range=(1,2))\n",
    "X_tfidf = vectorizer.fit_transform(data['content'])\n",
    "Y = data['label'].values"
   ]
  },
  {
   "cell_type": "code",
   "execution_count": 26,
   "id": "de777e25",
   "metadata": {},
   "outputs": [
    {
     "name": "stdout",
     "output_type": "stream",
     "text": [
      "['break gop chairman grassley enough demand trump jr testimoni donald trump white hous chao tri cover russia problem mount hour refus acknowledg problem surround fake news hoax howev fact bear thing differ seem crack congression public leadershipchuck grassley riowa head senat judiciari committe fed demand donald trump jr former trump campaign manag paul manafort testifi committe regard infam shadi meet donald trump shadi russian lawyer promis dirt democrat presidenti nomine hillari clinton fact inform due well demand send signal team trump notabl fire special counsel robert mueller circumst despit fact seem seem trump white hous lay groundwork speak speakher tweet regard grassley warningalso anyon think senat grassley rest senat seriou need look warn alreadi given trump jr manafort either follow order serv subpoena forc compli refus held contempt congress carri seriou jail timeeven cruel craven creatur within gop sick donald trump corrupt scandalridden white hous angri stage hostil takeov parti first birther give perman racist label decim effort made pretend republican parti hotb racism turn world upsid nation seem oldtim like grassley clearli sick trump bullshit might one could save republ need bit couragefeatur imag via win mcnameegetti imag'\n",
      " 'fail gop candid rememb hilari mock eulog video donald trump presumpt gop nomine time rememb candid tri hard beat race white hous forget misstep gaff weird sheer idioci candid jeb bush marco rubio john kasich ted cruz ben carson carli fiorinather video make round twitter eulog three fail candid though dead gop might well dead point anyway appropri titl eulog gop peopl make short speech candidatesonc past man actual say jeb bush qualifi presid fake tear journalist comedienn francesca fiorentini say dearli belov gather today commemor candid longer us one man speak amus circusi rendit chopin funer march rememb jeb way jeb hardli knew ye bad polici find way republican morass inde like jeb polici invis sometim although mani felt would win nomin earli best perform often came debat get outandout fight donald trump virtual everyth sun also bad habit defend brother action iraq memor say relat brother one thing know sure kept us safe move marco rubio fiorentini say call mani thing young charm lil marco last nicknam cours refer trump penchant namecal man speak spanish rememb rubio way marco normal boy anoth said involv gang eight immigr bill kill candid fiorentini repli peopl die gang violenc die gang eight violenc maker video save absolut best last cours ben carson dear dr carson one speaker say would gentli rock sleep monoton voic carson especi well known seemingli asleep half time saw eye open wide surpris like surpris voic soft speech slow realli hard stay awak talk imagin give state union addressto see whole video especi spectacular end carson eulog watch belowtak moment say g bye gop candid httpstcooblzv aj ajplu may featur imag via screen captur embed video'\n",
      " 'mike penc new dc neighbor hilari troll homophob bigot mike penc huge homophob support exgay convers therapi oppos hate crime protect lgbtq peopl staunchli marriag equal said believ samesex coupl lead societ collaps end folk forc live near vice presidentelect near newli rent hous washington dc none happi new neighbor howev instead protest ralli street decid troll insteadth resid chevi chase neighborhood hang larg rainbow flag home send signal mike penc homophobia welcom neck wood accord local station wjla respect messag show case disagr think said ils heintzenth heintzen refer vicepresid elect mike penc penc move hous heintzen block stay onandoff move vicepresid mansion ground naval observatori next yearneighbor start hang pride flag vpelect move lgbtq commun critic penc polici regard lgbtq rightsher coupl imag collect rainbow fyou penc via twitterprid flag send messag mikep outsid temporari dc home neighbor say come newschannel abcnew lgbtq lgbt pictwittercomabfkfjyl tim barber abctimbarb decemb resid nw washington street vp elect penc rent hous send symbol messag resid may hang flag pictwittercomfldysmopi suzann kennedi abcsuzann novemb flag come accord local peopl great thing let penc know bigotri welcom best attempt display presenc hand like caus anoth meltdown trump undoubtedli accus peopl harass penc bigot view happen hamilton staffeith way signal absolut toler bigotri matter hard push hope head explod one even take officefeatur imag via chip somodevillagetti imag'\n",
      " ...\n",
      " 'atheist sue governor texa display capitol ground convinc freedom religion group atheist get enough attent kid perpetu offend everyth yet anoth case mock nativ scene childish display su texa governor took downtexa gov greg abbott su atheist group decis remov nativityscen parodi state capitol decemberth freedom religion foundat announc feder lawsuit abbott western district texa austin divis thursday organ alleg governor violat free speech equal protect due process right order remov exhibit commemor birth bill rightsth imag question approv texa state preserv board includ statu liberti found father bill right manger place state capitol dec remain three day abbott act mock capitol nativ scene offens demand remov satir nativ scene capitol abbott tweet dec governor also pen letter state preserv board juvenil parodi violat preserv board regul remov immedi biblic scene newli born jesu christ lie manger bethlehem lie heart christian faith subject imag held sacr million texan foundat tasteless sarcasm noth promot moral gener welfar abbott said contrari foundat spite messag intent design belittl offend undermin rather promot public purpos display promot bill right might otherwis read wnd'\n",
      " 'republican tax plan would deal financi hit us univers washington reuter republican tax plan unveil thursday stir anger us univers said propos tax endow privat institut repeal deduct studentloan interest payment would hurt institut student bill republicanl hous repres would increas student cost attend colleg billion accord analysi american council educ ace lead lobbi group higher educ plan would discourag particip postsecondari educ make colleg expens enrol undermin financi stabil public privat twoyear fouryear colleg univers ace presid ted mitchel said hous speaker paul ryan power republican congress told news confer tax plan would allow typic famili four save around year could go toward colleg save plan would establish percent tax earn larg privateschool endow would also scrap deduct interest paid student loan congression analyst said would increas feder revenu billion year smaller tuitionrel tax break also end presid donald trump fellow republican lock horn colleg univers say forc liber valu student privat colleg endow total billion accord nation associ colleg univers busi offic nacubo tax would appli endow least asset student enrol sinc univers must balanc budget may rais tuition cut program financi aid order cover new tax said nacubo feder affair director liz clark princeton univers use earn billion endow provid aid percent student pay academ program facil research said bob durke vice presid secretari new jersey school famili incom pay tuition said incom less also forgo pay room board end interest deduct would hurt peopl abil afford educ said justin draeger presid nation associ student financi aid administr us one thing talk whether fund effect use govern money help peopl afford colleg said anoth use offset unclear tax overhaul'\n",
      " 'un refuge commission say australia must stop unfold humanitarian crisi png sydney reuter un high commission refuge said australia must take immedi action stop unfold humanitarian emerg see asylum seeker barricad insid abandon detent center papua new guinea without food run water detaine manu island centr two day defi attempt australia papua new guinea close camp say fear violent repris local commun move transit center food exhaust mani men begin show illeffect twoday without adequ nourish environ un refuge commission said australia must urgent resolv papua new guinea australia remain respons wellb move papua new guinea adequ longterm solut outsid countri found un bodi said statement thursday manu center key part australia controversi sovereign border immigr polici refus allow asylum seeker arriv boat reach shore detain camp papua new guinea nauru south pacif unit nation right group year cite human right abus among detaine center papua new guinea high court rule last year manu center first open illeg camp schedul close oct secur staff withdrew men camp water power util camp cut wednesday desper sourc altern suppli dozen men work night use wooden pole dig deep hole find water use torch light task photo suppli reuter show without run water advoc fear rapid declin sanitari condit camp behrouz boochani kurdish journalist iran said men hunger strike call red cross medicin san frontier msf provid help msf said statement reuter deepli concern sadden australia papua new guinea respons care detaine australia said men move new transit center pledg million million worth food secur next month un refuge commission said one new facil still makeshift camp compos ship contain contain surround mud electr water connect yet said reloc men design temporari measur allow unit state time complet vet refuge part refuge swap deal accept unit state option resettl papua new guinea none wish stay anoth develop countri lawyer detaine file suit papua new guinea suprem court prevent manu camp closur servic return rule expect later thursday although delay two day alreadi detaine come wartorn countri afghanistan iran myanmar pakistan sri lanka syria']\n"
     ]
    }
   ],
   "source": [
    "print(X)"
   ]
  },
  {
   "cell_type": "markdown",
   "id": "610efeed",
   "metadata": {},
   "source": [
    "Training ra Testing data split"
   ]
  },
  {
   "cell_type": "code",
   "execution_count": 27,
   "id": "c156dcc9",
   "metadata": {},
   "outputs": [],
   "source": [
    "# X_train, X_test, Y_train, Y_test=train_test_split(\n",
    "#     X_tfidf,Y, test_size=0.2, stratify=Y, random_state=2\n",
    "#     )\n",
    "X_train, X_test, Y_train, Y_test = train_test_split(\n",
    "    X_tfidf, Y, test_size=0.2, stratify=Y, random_state=42\n",
    ")"
   ]
  },
  {
   "cell_type": "markdown",
   "id": "a9ce4dcd",
   "metadata": {},
   "source": [
    "Model training hai"
   ]
  },
  {
   "cell_type": "code",
   "execution_count": 28,
   "id": "d6be5e8b",
   "metadata": {},
   "outputs": [],
   "source": [
    "from logistic_regression import LogisticRegressionFromScratchSparse\n"
   ]
  },
  {
   "cell_type": "code",
   "execution_count": 29,
   "id": "37cda190",
   "metadata": {},
   "outputs": [],
   "source": [
    "# model=LogisticRegressionFromScratch(learning_rate=0.001, epochs=500, verbose=True)\n",
    "# model.fit(X_train, Y_train)\n",
    "model = LogisticRegressionFromScratchSparse(\n",
    "    learning_rate=0.1,\n",
    "    epochs=100,\n",
    "    batch_size=512,   # can tune batch size\n",
    "    verbose=True\n",
    ")"
   ]
  },
  {
   "cell_type": "code",
   "execution_count": 30,
   "id": "3f781c97",
   "metadata": {},
   "outputs": [
    {
     "name": "stdout",
     "output_type": "stream",
     "text": [
      "Epoch 1/100, Loss: 0.6839\n",
      "Epoch 11/100, Loss: 0.6112\n",
      "Epoch 21/100, Loss: 0.5533\n",
      "Epoch 31/100, Loss: 0.5066\n",
      "Epoch 41/100, Loss: 0.4683\n",
      "Epoch 51/100, Loss: 0.4365\n",
      "Epoch 61/100, Loss: 0.4096\n",
      "Epoch 71/100, Loss: 0.3866\n",
      "Epoch 81/100, Loss: 0.3666\n",
      "Epoch 91/100, Loss: 0.3492\n",
      "Epoch 100/100, Loss: 0.3352\n"
     ]
    }
   ],
   "source": [
    "model.fit(X_train, Y_train)"
   ]
  },
  {
   "cell_type": "code",
   "execution_count": 31,
   "id": "a22da3aa",
   "metadata": {},
   "outputs": [
    {
     "name": "stdout",
     "output_type": "stream",
     "text": [
      "Accuracy on full dataset: 0.9531180400890868\n"
     ]
    }
   ],
   "source": [
    "y_pred = model.predict(X_test)\n",
    "accuracy = (y_pred == Y_test).mean()\n",
    "print(\"Accuracy on full dataset:\", accuracy)"
   ]
  },
  {
   "cell_type": "code",
   "execution_count": 32,
   "id": "c1c92923",
   "metadata": {},
   "outputs": [
    {
     "name": "stdout",
     "output_type": "stream",
     "text": [
      "Training Accuracy: 0.953700094660059\n",
      "Testing Accuracy: 0.9531180400890868\n"
     ]
    }
   ],
   "source": [
    "train_acc = np.mean(model.predict(X_train) == Y_train)\n",
    "test_acc = np.mean(model.predict(X_test) == Y_test)\n",
    "\n",
    "print(\"Training Accuracy:\", train_acc)\n",
    "print(\"Testing Accuracy:\", test_acc)"
   ]
  },
  {
   "cell_type": "markdown",
   "id": "d04bddb0",
   "metadata": {},
   "source": [
    "Prediction\n"
   ]
  },
  {
   "cell_type": "code",
   "execution_count": 33,
   "id": "63e1ecaa",
   "metadata": {},
   "outputs": [
    {
     "name": "stdout",
     "output_type": "stream",
     "text": [
      "[0]\n",
      "The news is real\n"
     ]
    }
   ],
   "source": [
    "X_new=X_test[5]\n",
    "\n",
    "prediction=model.predict(X_new)\n",
    "print(prediction)\n",
    "\n",
    "if (prediction[0]==0):\n",
    "    print(\"The news is real\")\n",
    "    \n",
    "else:\n",
    "    print(\"The news is fake\")"
   ]
  },
  {
   "cell_type": "code",
   "execution_count": 34,
   "id": "16d23260",
   "metadata": {},
   "outputs": [
    {
     "name": "stdout",
     "output_type": "stream",
     "text": [
      "0\n"
     ]
    }
   ],
   "source": [
    "print(Y_test[5])"
   ]
  },
  {
   "cell_type": "code",
   "execution_count": 35,
   "id": "44f114cd",
   "metadata": {},
   "outputs": [],
   "source": [
    "import pickle\n",
    "\n",
    "# Save logistic regression model\n",
    "with open('logistic_model.pkl', 'wb') as f:\n",
    "    pickle.dump(model, f)\n",
    "\n",
    "# Save TF-IDF vectorizer\n",
    "with open('tfidf_vectorizer.pkl', 'wb') as f:\n",
    "    pickle.dump(vectorizer, f)\n"
   ]
  },
  {
   "cell_type": "code",
   "execution_count": 36,
   "id": "9f93f0f7",
   "metadata": {},
   "outputs": [],
   "source": [
    "def preprocess_news(title, text):\n",
    "    content = title + ' ' + text\n",
    "    content = re.sub('[^a-zA-Z ]', '', content)  # remove non-letters\n",
    "    content = content.lower()\n",
    "    words = content.split()\n",
    "    stemmed_words = [port_stem.stem(word) for word in words if word not in stop_words]\n",
    "    return ' '.join(stemmed_words)\n"
   ]
  },
  {
   "cell_type": "code",
   "execution_count": 37,
   "id": "3fcbb752",
   "metadata": {},
   "outputs": [],
   "source": [
    "def predict_news(title, text):\n",
    "    processed_text = preprocess_news(title, text)\n",
    "    X_new = vectorizer.transform([processed_text])\n",
    "    prediction = model.predict(X_new)\n",
    "    return \"Real\" if prediction[0] == 1 else \"Fake\"\n"
   ]
  },
  {
   "cell_type": "code",
   "execution_count": 38,
   "id": "5edeeebd",
   "metadata": {},
   "outputs": [
    {
     "name": "stdout",
     "output_type": "stream",
     "text": [
      "Prediction: Real\n"
     ]
    }
   ],
   "source": [
    "title = \"Bihar On High Alert As 3 Jaish Terrorists Enter Via Nepal, Cops Release Sketch\"\n",
    "text = \"Patna:The police in Bihar have issued a high alert after inputs of three terrorists from Pakistan entering the state through Nepal. They have also released the sketch of the three terrorists, who belong to the banned terror outfit Jaish-e-Mohammed.They have been identified as Hasnain Ali, a resident of Rawalpindi, Adil Hussain of Umarkot and Mohammad Usman of Bahawalpur.The police said these terrorists arrived in Nepal's capital Kathmandu in the second week of August and crossed into poll-bound Bihar last week.They have now shared the details of their passports with the officials of the border districts.Security has been increased in Bihar in view of the assembly elections, due later this year.PM Modi's Warning To TerroristsAfter the Pahalgam attack, Prime Minister Narendra Modi had taken a pledge in Bihar to eliminate terrorists behind the April 22 tragedy.The Indian armed forces, after finding cross-border links to the deadly attack, launched Operation Sindoor on May 7 and struck multiple terror camps linked to groups like Jaish-e-Mohammed, Lashkar-e-Taiba, and Hizbul Mujahideen in Pakistan and Pakistan-occupied Kashmir (PoK). Over 100 terrorists were killed in the Indian strikes.Speaking at a rally in Bihar last week, PM Modi said Operation Sindoor was a pledge I took on the soil of Bihar\"\n",
    "result = predict_news(title, text)\n",
    "print(\"Prediction:\", result)\n"
   ]
  },
  {
   "cell_type": "code",
   "execution_count": 40,
   "id": "5d16d87d",
   "metadata": {},
   "outputs": [
    {
     "name": "stdout",
     "output_type": "stream",
     "text": [
      "Accuracy: 0.9531180400890868\n",
      "Precision: 0.9501281752505244\n",
      "Recall: 0.9516806722689075\n",
      "F1-Score: 0.9509037900874635\n"
     ]
    }
   ],
   "source": [
    "from sklearn.metrics import accuracy_score, precision_score, recall_score, f1_score, roc_auc_score\n",
    "\n",
    "# y_test = true labels\n",
    "# y_pred = predicted labels\n",
    "# y_proba = predicted probabilities\n",
    "\n",
    "print(\"Accuracy:\", accuracy_score(Y_test, y_pred))\n",
    "print(\"Precision:\", precision_score(Y_test, y_pred))\n",
    "print(\"Recall:\", recall_score(Y_test, y_pred))\n",
    "print(\"F1-Score:\", f1_score(Y_test, y_pred))\n",
    "\n"
   ]
  }
 ],
 "metadata": {
  "kernelspec": {
   "display_name": "dl-workshop",
   "language": "python",
   "name": "python3"
  },
  "language_info": {
   "codemirror_mode": {
    "name": "ipython",
    "version": 3
   },
   "file_extension": ".py",
   "mimetype": "text/x-python",
   "name": "python",
   "nbconvert_exporter": "python",
   "pygments_lexer": "ipython3",
   "version": "3.12.8"
  }
 },
 "nbformat": 4,
 "nbformat_minor": 5
}
